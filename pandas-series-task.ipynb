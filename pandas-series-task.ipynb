{
 "cells": [
  {
   "cell_type": "code",
   "execution_count": 3,
   "id": "b49baa6f-6df6-4e1e-9dbd-f4395e8a99c9",
   "metadata": {},
   "outputs": [
    {
     "name": "stdout",
     "output_type": "stream",
     "text": [
      "Requirement already satisfied: pandas in c:\\users\\final solution\\appdata\\local\\programs\\python\\python311\\lib\\site-packages (2.2.0)\n",
      "Requirement already satisfied: numpy<2,>=1.23.2 in c:\\users\\final solution\\appdata\\local\\programs\\python\\python311\\lib\\site-packages (from pandas) (1.26.3)\n",
      "Requirement already satisfied: python-dateutil>=2.8.2 in c:\\users\\final solution\\appdata\\local\\programs\\python\\python311\\lib\\site-packages (from pandas) (2.8.2)\n",
      "Requirement already satisfied: pytz>=2020.1 in c:\\users\\final solution\\appdata\\local\\programs\\python\\python311\\lib\\site-packages (from pandas) (2023.4)\n",
      "Requirement already satisfied: tzdata>=2022.7 in c:\\users\\final solution\\appdata\\local\\programs\\python\\python311\\lib\\site-packages (from pandas) (2023.4)\n",
      "Requirement already satisfied: six>=1.5 in c:\\users\\final solution\\appdata\\local\\programs\\python\\python311\\lib\\site-packages (from python-dateutil>=2.8.2->pandas) (1.16.0)\n",
      "Note: you may need to restart the kernel to use updated packages.\n"
     ]
    },
    {
     "name": "stderr",
     "output_type": "stream",
     "text": [
      "\n",
      "[notice] A new release of pip available: 22.3.1 -> 23.3.2\n",
      "[notice] To update, run: python.exe -m pip install --upgrade pip\n"
     ]
    }
   ],
   "source": [
    "pip install pandas"
   ]
  },
  {
   "cell_type": "code",
   "execution_count": 4,
   "id": "efbf0339-14d5-4306-b6d7-055fa90c3c54",
   "metadata": {},
   "outputs": [
    {
     "name": "stderr",
     "output_type": "stream",
     "text": [
      "C:\\Users\\final solution\\AppData\\Local\\Temp\\ipykernel_1244\\4080736814.py:1: DeprecationWarning: \n",
      "Pyarrow will become a required dependency of pandas in the next major release of pandas (pandas 3.0),\n",
      "(to allow more performant data types, such as the Arrow string type, and better interoperability with other libraries)\n",
      "but was not found to be installed on your system.\n",
      "If this would cause problems for you,\n",
      "please provide us feedback at https://github.com/pandas-dev/pandas/issues/54466\n",
      "        \n",
      "  import pandas as pd\n"
     ]
    }
   ],
   "source": [
    "import pandas as pd"
   ]
  },
  {
   "cell_type": "code",
   "execution_count": 5,
   "id": "4ee9fe35-4763-4c6e-9098-c479f2e9bdae",
   "metadata": {},
   "outputs": [
    {
     "data": {
      "text/plain": [
       "2        python\n",
       "1    javascript\n",
       "4          java\n",
       "3         c/c++\n",
       "5    R language\n",
       "Name: Top 5 Programming languages used in 2021, dtype: object"
      ]
     },
     "execution_count": 5,
     "metadata": {},
     "output_type": "execute_result"
    }
   ],
   "source": [
    "series1=pd.Series([\"javascript\",\"python\",\"c/c++\",\"java\",\"R language\"],index=[1,2,3,4,5])\n",
    "sorted_series=series1.sort_values(ascending=False)\n",
    "sorted_series.name=\"Top 5 Programming languages used in 2021\"\n",
    "sorted_series"
   ]
  },
  {
   "cell_type": "code",
   "execution_count": 6,
   "id": "aec761a6-d13f-4643-bdbc-b0dccd77c745",
   "metadata": {},
   "outputs": [
    {
     "data": {
      "text/plain": [
       "'c/c++'"
      ]
     },
     "execution_count": 6,
     "metadata": {},
     "output_type": "execute_result"
    }
   ],
   "source": [
    "sorted_series[3]"
   ]
  },
  {
   "cell_type": "code",
   "execution_count": 7,
   "id": "c0d273ff-ae9a-4c67-9d13-3f3c2ed4cc6c",
   "metadata": {},
   "outputs": [
    {
     "data": {
      "text/plain": [
       "0    1\n",
       "1    2\n",
       "2    3\n",
       "3    4\n",
       "4    5\n",
       "dtype: int64"
      ]
     },
     "execution_count": 7,
     "metadata": {},
     "output_type": "execute_result"
    }
   ],
   "source": [
    "series2=pd.Series([1,2,3,4,5])\n",
    "series2"
   ]
  },
  {
   "cell_type": "code",
   "execution_count": 8,
   "id": "1ce8405d-c2dd-4f43-a99a-62fb8ccdc991",
   "metadata": {},
   "outputs": [
    {
     "data": {
      "text/plain": [
       "15"
      ]
     },
     "execution_count": 8,
     "metadata": {},
     "output_type": "execute_result"
    }
   ],
   "source": [
    "series2.sum()"
   ]
  },
  {
   "cell_type": "code",
   "execution_count": 9,
   "id": "b438ca68-9edb-43fe-b03b-877f8b0bded2",
   "metadata": {},
   "outputs": [
    {
     "data": {
      "text/plain": [
       "3.0"
      ]
     },
     "execution_count": 9,
     "metadata": {},
     "output_type": "execute_result"
    }
   ],
   "source": [
    "series2.mean()"
   ]
  },
  {
   "cell_type": "code",
   "execution_count": 10,
   "id": "15679e9f-bee2-422c-9814-cd6831e05af8",
   "metadata": {},
   "outputs": [
    {
     "data": {
      "text/plain": [
       "1.5811388300841898"
      ]
     },
     "execution_count": 10,
     "metadata": {},
     "output_type": "execute_result"
    }
   ],
   "source": [
    "series2.std()"
   ]
  },
  {
   "cell_type": "code",
   "execution_count": 12,
   "id": "6d2f8a58-1f0e-4dee-87cf-3ad7b5240df4",
   "metadata": {},
   "outputs": [
    {
     "data": {
      "text/plain": [
       "apples     3\n",
       "bananas    2\n",
       "orange     1\n",
       "dtype: int64"
      ]
     },
     "execution_count": 12,
     "metadata": {},
     "output_type": "execute_result"
    }
   ],
   "source": [
    "series3=pd.Series({\"apples\":3,\"bananas\":2,\"orange\":1})\n",
    "series3\n"
   ]
  },
  {
   "cell_type": "code",
   "execution_count": 17,
   "id": "63efc4e2-103c-467d-a095-c7d63e4acb1b",
   "metadata": {},
   "outputs": [
    {
     "name": "stdout",
     "output_type": "stream",
     "text": [
      "2    3\n",
      "3    4\n",
      "4    5\n",
      "dtype: int64\n"
     ]
    }
   ],
   "source": [
    "print(series2[series2>2])\n"
   ]
  },
  {
   "cell_type": "code",
   "execution_count": 26,
   "id": "d4195668-d1e9-4b3b-b1ac-9d4cbe5ea45c",
   "metadata": {},
   "outputs": [
    {
     "data": {
      "text/plain": [
       "a    1\n",
       "b    3\n",
       "c    5\n",
       "d    7\n",
       "e    9\n",
       "dtype: int64"
      ]
     },
     "execution_count": 26,
     "metadata": {},
     "output_type": "execute_result"
    }
   ],
   "source": [
    "series4=pd.Series([1,3,5,7,9],index=[\"a\",\"b\",\"c\",\"d\",\"e\"])\n",
    "series4"
   ]
  },
  {
   "cell_type": "code",
   "execution_count": null,
   "id": "57a4adb7-800d-4e25-a855-bc8bcb3f20ab",
   "metadata": {},
   "outputs": [],
   "source": []
  },
  {
   "cell_type": "code",
   "execution_count": null,
   "id": "bb46e169-45a5-4384-b5c8-b4694e144d65",
   "metadata": {},
   "outputs": [],
   "source": []
  }
 ],
 "metadata": {
  "kernelspec": {
   "display_name": "Python 3 (ipykernel)",
   "language": "python",
   "name": "python3"
  },
  "language_info": {
   "codemirror_mode": {
    "name": "ipython",
    "version": 3
   },
   "file_extension": ".py",
   "mimetype": "text/x-python",
   "name": "python",
   "nbconvert_exporter": "python",
   "pygments_lexer": "ipython3",
   "version": "3.11.2"
  }
 },
 "nbformat": 4,
 "nbformat_minor": 5
}
